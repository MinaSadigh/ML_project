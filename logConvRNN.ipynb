{
 "cells": [
  {
   "cell_type": "code",
   "execution_count": 1,
   "id": "475a0d23",
   "metadata": {
    "colab": {
     "base_uri": "https://localhost:8080/"
    },
    "id": "475a0d23",
    "outputId": "d5fa1fff-d585-4f1d-d975-1ed6a5a1eaaf"
   },
   "outputs": [
    {
     "name": "stdout",
     "output_type": "stream",
     "text": [
      "Mounted at myGDrive\n"
     ]
    }
   ],
   "source": [
    "#code to connect the google drive to the google colab if running on google colab\n",
    "#from google.colab import drive\n",
    "#drive.mount('myGDrive')"
   ]
  },
  {
   "cell_type": "code",
   "execution_count": 2,
   "id": "6cda77d5",
   "metadata": {
    "colab": {
     "base_uri": "https://localhost:8080/"
    },
    "id": "6cda77d5",
    "outputId": "9503c88f-8117-4aee-80f0-84ff3adcaaed"
   },
   "outputs": [
    {
     "data": {
      "text/plain": [
       "<torch._C.Generator at 0x7f6dbe14ae30>"
      ]
     },
     "execution_count": 2,
     "metadata": {},
     "output_type": "execute_result"
    }
   ],
   "source": [
    "import numpy as np\n",
    "import matplotlib.pyplot as plt\n",
    "import torch\n",
    "import pandas as pd\n",
    "from sklearn.model_selection import train_test_split\n",
    "torch.manual_seed(0)"
   ]
  },
  {
   "cell_type": "code",
   "execution_count": 3,
   "id": "6dj3Hb7icxp9",
   "metadata": {
    "id": "6dj3Hb7icxp9"
   },
   "outputs": [],
   "source": [
    "\"\"\"\n",
    "Here a window size of 10 selected meaning that each log message is only dependent on 9 previous log messages in the sequence.\n",
    "Then a dataset composed of N sequences of size L is created to train the model in a self-supervised manner.\n",
    "\"\"\"\n",
    "L = 10 # Window size (L-1 entries as the input stream and 1 entry as the corresponding output log)\n",
    "logs = pd.read_csv('OpenStack/ParsingResults/openstack_normal2.log_structured.csv')\n",
    "templates = pd.read_csv('OpenStack/ParsingResults/openstack_normal2.log_templates.csv')\n",
    "events = list(logs['EventTemplate'])\n",
    "t_lookup = list(templates['EventTemplate'])\n",
    "log_set_size = len(t_lookup)\n",
    "raw_data = []\n",
    "data_set = []\n",
    "for e in events:\n",
    "    raw_data.append(t_lookup.index(e))\n",
    "for i in range(len(raw_data) - L + 1):\n",
    "    row = raw_data[i:i+L]\n",
    "    data_set.append(row)\n",
    "train_data = torch.tensor(data_set)"
   ]
  },
  {
   "cell_type": "code",
   "execution_count": 4,
   "id": "OTLghcjhCV7v",
   "metadata": {
    "id": "OTLghcjhCV7v"
   },
   "outputs": [],
   "source": [
    "# A data-loader structure is used to store the training dataset\n",
    "torch.manual_seed(0)\n",
    "batch_size = 2000\n",
    "tr_dataset = torch.utils.data.TensorDataset(train_data)\n",
    "tr_loader = torch.utils.data.DataLoader(tr_dataset, batch_size=batch_size, shuffle=True)"
   ]
  },
  {
   "cell_type": "code",
   "execution_count": 5,
   "id": "YhzfSxpCCYBQ",
   "metadata": {
    "id": "YhzfSxpCCYBQ"
   },
   "outputs": [],
   "source": [
    "# This model is stacking a convolutional neural network and a two-layer LSTM\n",
    "class logConvRNN(torch.nn.Module):\n",
    "    def __init__(self, log_set_size = 10, embedding_dim = 75, hidden_size = 8, \n",
    "                 num_layers = 2, num_filters = 1, filter_size = 3, padding = 1, dropout = 0.1):\n",
    "        super().__init__()\n",
    "        self.embedder = torch.nn.Embedding(log_set_size, embedding_dim)\n",
    "        self.cnn = torch.nn.Sequential(\n",
    "            torch.nn.Conv2d(in_channels = 1, out_channels = num_filters, kernel_size = filter_size, padding = padding),\n",
    "            torch.nn.ReLU(),\n",
    "            torch.nn.BatchNorm2d(num_filters)\n",
    "        )\n",
    "        self.rnn = torch.nn.LSTM(input_size = embedding_dim, hidden_size = hidden_size, \n",
    "                                 num_layers = num_layers, dropout = dropout, batch_first = True)\n",
    "        self.linear = torch.nn.Linear(hidden_size, log_set_size)\n",
    "    def forward(self, X, h_0 = None):\n",
    "        \"\"\"\n",
    "        This method feeds forward our model with input X.\n",
    "        Arguments:\n",
    "        X: A tensor of shape (N,L-1)\n",
    "        h_0: The initial hidden layer\n",
    "        \n",
    "        Outputs:\n",
    "        out: A tensor of shape (N,log_set_size) containing the logits for producing the probabilities of the Lth elemenet of each sequence\n",
    "        h_n: The last hidden state\n",
    "        \"\"\"\n",
    "        EX = self.embedder(X)\n",
    "        CX = self.cnn(torch.unsqueeze(EX,1))\n",
    "        Z, h_n = self.rnn(torch.squeeze(CX), h_0)\n",
    "        z = Z[:,-1,:]\n",
    "        out = self.linear(z)\n",
    "        return out, h_n"
   ]
  },
  {
   "cell_type": "code",
   "execution_count": 6,
   "id": "o9OaLbo_CcGz",
   "metadata": {
    "colab": {
     "base_uri": "https://localhost:8080/"
    },
    "id": "o9OaLbo_CcGz",
    "outputId": "fa3d7f05-702d-495a-b108-992fbd2aa9ff"
   },
   "outputs": [
    {
     "name": "stdout",
     "output_type": "stream",
     "text": [
      "Epoch 010: training loss: 1.5396\n",
      "Epoch 020: training loss: 1.2760\n",
      "Epoch 030: training loss: 1.0041\n",
      "Epoch 040: training loss: 0.8680\n",
      "Epoch 050: training loss: 0.7097\n",
      "Epoch 060: training loss: 0.6933\n",
      "Epoch 070: training loss: 0.4753\n",
      "Epoch 080: training loss: 0.4071\n",
      "Epoch 090: training loss: 0.4649\n",
      "Epoch 100: training loss: 0.4177\n"
     ]
    }
   ],
   "source": [
    "torch.manual_seed(0)\n",
    "num_epoch = 100\n",
    "lr = 1e-3\n",
    "hidden_size = 256\n",
    "num_layers = 2\n",
    "num_filters = 1\n",
    "filter_size = 3\n",
    "padding = 1\n",
    "embedding_dim = 75\n",
    "dropout = 0.5\n",
    "device = 'cuda:0'\n",
    "lcrnn = logConvRNN(log_set_size = log_set_size, embedding_dim = embedding_dim, \n",
    "              hidden_size = hidden_size, num_layers = num_layers, num_filters = num_filters, \n",
    "              filter_size = filter_size, padding = padding, dropout = dropout)\n",
    "lcrnn.to(device)\n",
    "loss = torch.nn.CrossEntropyLoss()\n",
    "loss.to(device)\n",
    "optimizer = torch.optim.Adam(lcrnn.parameters(), lr = lr)\n",
    "train_loss = []\n",
    "for epoch in range(num_epoch):\n",
    "    for i, X in enumerate(tr_loader):\n",
    "        X = X[0]\n",
    "        y = X[:,-1]\n",
    "        X = X[:,0:-1]\n",
    "        X = X.to(device)\n",
    "        y = y.to(device)\n",
    "        out, h_n = lcrnn(X)\n",
    "        l = loss(out, y)\n",
    "        lcrnn.zero_grad()\n",
    "        l.backward()\n",
    "        optimizer.step()\n",
    "    train_loss.append(l.item())\n",
    "    if(epoch+1) % 10 == 0:\n",
    "        print(\"Epoch %03d: training loss: %.4f\" %(epoch+1, l.item()))"
   ]
  },
  {
   "cell_type": "code",
   "execution_count": 7,
   "id": "XXOiMxge9aiH",
   "metadata": {
    "colab": {
     "base_uri": "https://localhost:8080/",
     "height": 295
    },
    "id": "XXOiMxge9aiH",
    "outputId": "a06d6291-8dc4-4e1d-abdf-315e554bf796"
   },
   "outputs": [
    {
     "data": {
      "image/png": "[encoded data removed]",
      "text/plain": [
       "<Figure size 432x288 with 1 Axes>"
      ]
     },
     "metadata": {
      "needs_background": "light"
     },
     "output_type": "display_data"
    }
   ],
   "source": [
    "plt.figure()\n",
    "plt.plot(train_loss, color = 'k')\n",
    "plt.title(\"Train loss over epochs\")\n",
    "plt.xlabel('epoch')\n",
    "plt.ylabel('train loss');"
   ]
  },
  {
   "cell_type": "code",
   "execution_count": 8,
   "id": "9b2TqTXuzjfu",
   "metadata": {
    "id": "9b2TqTXuzjfu"
   },
   "outputs": [],
   "source": [
    "\"\"\"Here we randomly select 5000 samples from the training sequences and \n",
    "inject anomalies in 100 of them by changing their last elements.\n",
    "In this way we produce a test set for measuring the performance of our model in detecting anomalies.\n",
    "\"\"\"\n",
    "torch.manual_seed(0)\n",
    "lcrnn.eval()\n",
    "total_anomalies = 100\n",
    "sample_rows = torch.randint(0, len(data_set), (5000,))\n",
    "test_data = train_data[sample_rows]\n",
    "affected_rows = torch.randint(0, len(test_data), (total_anomalies,))\n",
    "test_data[affected_rows,-1] = (test_data[affected_rows,-1] + 5) % log_set_size\n",
    "X_test = test_data[:,0:-1]\n",
    "y_test = test_data[:,-1]\n",
    "X_test = X_test.to(device)\n",
    "y_test = y_test.to(device)\n",
    "out, h_n = lcrnn(X_test)\n",
    "out = torch.nn.Softmax(1)(out)\n",
    "y_test_pred = torch.max(out,1)[1]"
   ]
  },
  {
   "cell_type": "code",
   "execution_count": 9,
   "id": "m4l9Sw3xiMMJ",
   "metadata": {
    "id": "m4l9Sw3xiMMJ"
   },
   "outputs": [],
   "source": [
    "\"\"\"Here we define some functions for measuring the performance of our model.\n",
    "inputs:\n",
    "y_pred: a one-dimentional tensor containing the predicted log indices.\n",
    "y_true: a one-dimentional tensor containing the labels produced from the test set.\n",
    "\"\"\"\n",
    "def FalsePositiveRate(y_pred, y_true):\n",
    "  FP = TN = 0\n",
    "  for i in np.arange(len(y_pred)):\n",
    "    if (y_pred[i] != y_true[i]) and not(i in affected_rows):\n",
    "      FP += 1\n",
    "    if (y_pred[i] == y_true[i]) and not(i in affected_rows):\n",
    "      TN += 1\n",
    "  return FP / (FP + TN)\n",
    "\n",
    "def FalseNegativeRate(y_pred, y_true):\n",
    "  FN = TP = 0\n",
    "  for i in np.arange(len(y_pred)):\n",
    "    if (y_pred[i] == y_true[i]) and (i in affected_rows):\n",
    "      FN += 1\n",
    "    if (y_pred[i] != y_true[i]) and (i in affected_rows):\n",
    "      TP += 1\n",
    "  return FN / (FN + TP)\n",
    "def Precision(y_pred, y_true):\n",
    "  TP = FP = 0\n",
    "  for i in np.arange(len(y_pred)):\n",
    "    if (y_pred[i] != y_true[i]) and (i in affected_rows):\n",
    "      TP += 1\n",
    "    if (y_pred[i] != y_true[i]) and not(i in affected_rows):\n",
    "      FP += 1\n",
    "  return TP / (TP + FP)\n",
    "\n",
    "def Recall(y_pred, y_true):\n",
    "  TP = FN = 0\n",
    "  for i in np.arange(len(y_pred)):\n",
    "    if (y_pred[i] != y_true[i]) and (i in affected_rows):\n",
    "      TP += 1\n",
    "    if (y_pred[i] == y_true[i]) and (i in affected_rows):\n",
    "      FN += 1\n",
    "  return TP / (TP + FN)\n",
    "def Accuracy(y_pred, y_true):\n",
    "  correct = 0\n",
    "  for i in np.arange(len(y_pred)):\n",
    "    if ((y_pred[i] != y_true[i]) and (i in affected_rows)) or ((y_pred[i] == y_true[i]) and not(i in affected_rows)):\n",
    "      correct += 1\n",
    "  return correct / len(y_pred)"
   ]
  },
  {
   "cell_type": "code",
   "execution_count": 10,
   "id": "m0weovFu-TmU",
   "metadata": {
    "colab": {
     "base_uri": "https://localhost:8080/"
    },
    "id": "m0weovFu-TmU",
    "outputId": "5b5bbbab-49c3-4527-ee37-0614900caa79"
   },
   "outputs": [
    {
     "name": "stdout",
     "output_type": "stream",
     "text": [
      "The False Positive Rate of anomaly detection on the random sample: 7.65%\n",
      "The False Negative Rate of anomaly detection on the random sample: 0.00%\n",
      "The precision of anomaly detection on the random sample: 20.55%\n",
      "The recall measure of anomaly detection on the random sample: 100.00%\n",
      "The accuracy of anomaly detection on the random sample: 92.50%\n"
     ]
    }
   ],
   "source": [
    "print(\"The False Positive Rate of anomaly detection on the random sample: %.2f%%\" % (FalsePositiveRate(y_test_pred, y_test) * 100))\n",
    "print(\"The False Negative Rate of anomaly detection on the random sample: %.2f%%\" % (FalseNegativeRate(y_test_pred, y_test) * 100))\n",
    "print(\"The precision of anomaly detection on the random sample: %.2f%%\" % (Precision(y_test_pred, y_test) * 100))\n",
    "print(\"The recall measure of anomaly detection on the random sample: %.2f%%\" % (Recall(y_test_pred, y_test) * 100))\n",
    "print(\"The accuracy of anomaly detection on the random sample: %.2f%%\" % (Accuracy(y_test_pred, y_test) * 100))"
   ]
  }
 ],
 "metadata": {
  "accelerator": "GPU",
  "colab": {
   "collapsed_sections": [],
   "machine_shape": "hm",
   "name": "Final Project.ipynb",
   "provenance": []
  },
  "kernelspec": {
   "display_name": "Python 3 (ipykernel)",
   "language": "python",
   "name": "python3"
  },
  "language_info": {
   "codemirror_mode": {
    "name": "ipython",
    "version": 3
   },
   "file_extension": ".py",
   "mimetype": "text/x-python",
   "name": "python",
   "nbconvert_exporter": "python",
   "pygments_lexer": "ipython3",
   "version": "3.8.10"
  }
 },
 "nbformat": 4,
 "nbformat_minor": 5
}
